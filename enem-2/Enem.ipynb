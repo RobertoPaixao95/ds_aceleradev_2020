{
 "cells": [
  {
   "cell_type": "markdown",
   "metadata": {},
   "source": [
    "# **Codenation**\n",
    "## Desafio - Semana 8 "
   ]
  },
  {
   "cell_type": "markdown",
   "metadata": {},
   "source": [
    "### __Importando módulos__"
   ]
  },
  {
   "cell_type": "code",
   "execution_count": 1,
   "metadata": {},
   "outputs": [],
   "source": [
    "import pandas as pd\n",
    "import seaborn as sns\n",
    "import numpy as np\n",
    "from sklearn.compose import make_column_transformer\n",
    "from sklearn.pipeline import make_pipeline, Pipeline\n",
    "from sklearn.preprocessing import OneHotEncoder, MinMaxScaler, StandardScaler\n",
    "from sklearn.linear_model import LinearRegression\n",
    "from sklearn.ensemble import RandomForestRegressor\n",
    "from sklearn.model_selection import cross_val_score\n",
    "from sklearn.model_selection import GridSearchCV\n"
   ]
  },
  {
   "cell_type": "code",
   "execution_count": 2,
   "metadata": {},
   "outputs": [],
   "source": [
    "# Configurações para o Seaborn.\n",
    "from IPython.core.pylabtools import figsize\n",
    "sns.set()\n",
    "figsize(12,8)"
   ]
  },
  {
   "cell_type": "markdown",
   "metadata": {},
   "source": [
    "### __Carregando os dados__"
   ]
  },
  {
   "cell_type": "code",
   "execution_count": 3,
   "metadata": {},
   "outputs": [],
   "source": [
    "df_train = pd.read_csv('train.csv')\n",
    "df_test = pd.read_csv('test.csv')\n",
    "\n",
    "# Gerando DataFrame de resposta.\n",
    "answer = pd.DataFrame()\n",
    "\n",
    "# A coluna 'NU_INSCRICAO' de df_test deve ser salva em answer para gerar o .csv de resposta que o desafio pede.\n",
    "answer['NU_INSCRICAO'] = df_test['NU_INSCRICAO']"
   ]
  },
  {
   "cell_type": "markdown",
   "metadata": {},
   "source": [
    "### **Análise / Ajustes** "
   ]
  },
  {
   "cell_type": "code",
   "execution_count": 4,
   "metadata": {},
   "outputs": [
    {
     "name": "stdout",
     "output_type": "stream",
     "text": [
      "DataFrame: df_train\n",
      "Linhas: 13730 |\tColunas: 167\n"
     ]
    }
   ],
   "source": [
    "print(f'DataFrame: df_train\\nLinhas: {df_train.shape[0]} |\\tColunas: {df_train.shape[1]}')"
   ]
  },
  {
   "cell_type": "code",
   "execution_count": 5,
   "metadata": {},
   "outputs": [
    {
     "name": "stdout",
     "output_type": "stream",
     "text": [
      "DataFrame: df_test\n",
      "Linhas: 4576  |\tColunas: 47\n"
     ]
    }
   ],
   "source": [
    "print(f'DataFrame: df_test\\nLinhas: {df_test.shape[0]}  |\\tColunas: {df_test.shape[1]}')"
   ]
  },
  {
   "cell_type": "markdown",
   "metadata": {},
   "source": [
    "Obs: O DataFrame `df_teste` aparenta possuir as features ideais já selecionadas."
   ]
  },
  {
   "cell_type": "code",
   "execution_count": 6,
   "metadata": {},
   "outputs": [
    {
     "data": {
      "text/plain": [
       "True"
      ]
     },
     "execution_count": 6,
     "metadata": {},
     "output_type": "execute_result"
    }
   ],
   "source": [
    "# Checando se as features de df_teste está contida em df_train.\n",
    "features_train = df_train.columns.to_list()\n",
    "features_test = df_test.columns.to_list()\n",
    "\n",
    "# Se os elementos da lista de features de df_test estiver contido na lista de features de df_train retornará True.\n",
    "feature_train_contains_test = all(feature in features_train for feature in features_test)\n",
    "\n",
    "feature_train_contains_test"
   ]
  },
  {
   "cell_type": "markdown",
   "metadata": {},
   "source": [
    "`df_teste possui todas as features contidas em df_train`"
   ]
  },
  {
   "cell_type": "markdown",
   "metadata": {},
   "source": [
    "Selecionaremos as mesmas features de `df_test` para `df_train`"
   ]
  },
  {
   "cell_type": "code",
   "execution_count": 7,
   "metadata": {},
   "outputs": [],
   "source": [
    "# Gerando lista de features.\n",
    "features = df_test.columns.to_list()\n",
    "\n",
    "# Adicionando o target na lista de features para treino.\n",
    "features.append('NU_NOTA_MT')"
   ]
  },
  {
   "cell_type": "code",
   "execution_count": 8,
   "metadata": {},
   "outputs": [],
   "source": [
    "# Criando os dados de treino e teste\n",
    "train = df_train[features].copy()\n",
    "test = df_test.copy()"
   ]
  },
  {
   "cell_type": "markdown",
   "metadata": {},
   "source": [
    "Análisando o [Dicionário dos Microdados do Enem 2016](https://s3-us-west-1.amazonaws.com/acceleration-assets-highway/data-science/dicionario-de-dados.zip) há algumas features que representam códigos de inscrições, códigos das provas, que dificilmente agregariam algum valor ou teriam algum impacto positivo em nosso modelo, então serão dropados de `train` e `test`"
   ]
  },
  {
   "cell_type": "code",
   "execution_count": 9,
   "metadata": {},
   "outputs": [],
   "source": [
    "# Dropando atributos de código que dificilmente acrescentariam em algo ao nosso modelo.\n",
    "train.drop(['NU_INSCRICAO', 'CO_PROVA_CN', 'CO_PROVA_CH', 'CO_PROVA_LC', 'CO_PROVA_MT'], axis=1, inplace=True)\n",
    "test.drop(['NU_INSCRICAO', 'CO_PROVA_CN', 'CO_PROVA_CH', 'CO_PROVA_LC', 'CO_PROVA_MT'], axis=1, inplace=True)"
   ]
  },
  {
   "cell_type": "code",
   "execution_count": 10,
   "metadata": {},
   "outputs": [
    {
     "data": {
      "text/plain": [
       "SG_UF_RESIDENCIA       0\n",
       "TP_SEXO                0\n",
       "Q001                   0\n",
       "Q002                   0\n",
       "Q006                   0\n",
       "Q024                   0\n",
       "Q025                   0\n",
       "Q026                   0\n",
       "Q027                7373\n",
       "Q047                   0\n",
       "dtype: int64"
      ]
     },
     "execution_count": 10,
     "metadata": {},
     "output_type": "execute_result"
    }
   ],
   "source": [
    "# Checando se há NaN values nas features categóricas.\n",
    "train.select_dtypes('object').isnull().sum()"
   ]
  },
  {
   "cell_type": "markdown",
   "metadata": {},
   "source": [
    "No [Dicionário dos Microdados do Enem 2016](https://s3-us-west-1.amazonaws.com/acceleration-assets-highway/data-science/dicionario-de-dados.zip) o atributo `Q027` corresponde a seguinte pergunta:\n",
    "- `Com que idade você começou a exercer uma atividade remunerada?`\n",
    "\n",
    "Entretanto, esse atributo está correlacionado com o atributo `Q026` que pergunta:\n",
    "- `Você exerce ou já exerceu atividade remunerada?`\n",
    "\n",
    "Caso o candidato responda com `(A, Nunca Trabalhei)`, então o candidato não responderá a pergunta `Q027`.\n"
   ]
  },
  {
   "cell_type": "markdown",
   "metadata": {},
   "source": [
    "Precisamos tratar esses dados faltantes de alguma forma.\n",
    "Dropar não é a melhor opção pois são muitos dados e a exclusão poderia afetar a performance do modelo no final.\n",
    "\n",
    "Podemos atribuir uma variável do tipo `categórica` que \"represente\" um valor NaN (Nulo) para esses valores faltantes."
   ]
  },
  {
   "cell_type": "code",
   "execution_count": 11,
   "metadata": {},
   "outputs": [],
   "source": [
    "# Preenchendo os NaN values das features categóricas com '-'\n",
    "train['Q027'] = train['Q027'].fillna('-')\n",
    "test['Q027'] = test['Q027'].fillna('-')"
   ]
  },
  {
   "cell_type": "code",
   "execution_count": 12,
   "metadata": {},
   "outputs": [
    {
     "data": {
      "text/plain": [
       "TP_ENSINO                 9448\n",
       "TP_DEPENDENCIA_ADM_ESC    9448\n",
       "NU_NOTA_CN                3389\n",
       "NU_NOTA_CH                3389\n",
       "NU_NOTA_LC                3597\n",
       "TP_STATUS_REDACAO         3597\n",
       "NU_NOTA_COMP1             3597\n",
       "NU_NOTA_COMP2             3597\n",
       "NU_NOTA_COMP3             3597\n",
       "NU_NOTA_COMP4             3597\n",
       "NU_NOTA_COMP5             3597\n",
       "NU_NOTA_REDACAO           3597\n",
       "NU_NOTA_MT                3597\n",
       "dtype: int64"
      ]
     },
     "execution_count": 12,
     "metadata": {},
     "output_type": "execute_result"
    }
   ],
   "source": [
    "# Checando valorer NaN values nas features numéricas\n",
    "train.select_dtypes({'int', 'float'}).isnull().sum()"
   ]
  },
  {
   "cell_type": "markdown",
   "metadata": {},
   "source": [
    "Por se tratar do ENEM, se há valores nulos em features numéricas, faz sentido preencher com `0` já que podemos inferir que esse candidato possa:\n",
    "- Não ter respondido alguma questão.\n",
    "- Ter sido desqualificado por algum motivo.\n",
    "- Ter faltado algum dia de prova ou os dois dias.\n",
    "- Tido algum problema na contabilização das respostas.\n",
    "\n",
    "Excluir essa quantidade de dados pode prejudicar o desempenho do modelo.\n",
    "\n",
    "De forma simplificada, atribuíremos o valor `0` as variáveis faltantes:"
   ]
  },
  {
   "cell_type": "code",
   "execution_count": 13,
   "metadata": {},
   "outputs": [],
   "source": [
    "train.fillna(0, inplace=True)\n",
    "test.fillna(0, inplace=True)"
   ]
  },
  {
   "cell_type": "markdown",
   "metadata": {},
   "source": [
    "#### Checando número de linhas e colunas de ambos DataFrames"
   ]
  },
  {
   "cell_type": "code",
   "execution_count": 14,
   "metadata": {},
   "outputs": [
    {
     "name": "stdout",
     "output_type": "stream",
     "text": [
      "Train\n",
      "Linhas: 13730\n",
      "Colunas: 43\n"
     ]
    }
   ],
   "source": [
    "print(f'Train\\nLinhas: {train.shape[0]}\\nColunas: {train.shape[1]}')"
   ]
  },
  {
   "cell_type": "code",
   "execution_count": 15,
   "metadata": {},
   "outputs": [
    {
     "name": "stdout",
     "output_type": "stream",
     "text": [
      "Test\n",
      "Linhas: 4576\n",
      "Colunas: 42\n"
     ]
    }
   ],
   "source": [
    "print(f'Test\\nLinhas: {test.shape[0]}\\nColunas: {test.shape[1]}')"
   ]
  },
  {
   "cell_type": "markdown",
   "metadata": {},
   "source": [
    "`train` possui uma coluna a mais pois contém o target `NU_NOTA_MT` que posteriormente será dropada."
   ]
  },
  {
   "cell_type": "markdown",
   "metadata": {},
   "source": [
    "## Plots\n"
   ]
  },
  {
   "cell_type": "code",
   "execution_count": 16,
   "metadata": {},
   "outputs": [
    {
     "data": {
      "text/plain": [
       "array([[<AxesSubplot:title={'center':'NU_NOTA_CH'}>,\n",
       "        <AxesSubplot:title={'center':'NU_NOTA_CN'}>,\n",
       "        <AxesSubplot:title={'center':'NU_NOTA_COMP1'}>,\n",
       "        <AxesSubplot:title={'center':'NU_NOTA_COMP2'}>],\n",
       "       [<AxesSubplot:title={'center':'NU_NOTA_COMP3'}>,\n",
       "        <AxesSubplot:title={'center':'NU_NOTA_COMP4'}>,\n",
       "        <AxesSubplot:title={'center':'NU_NOTA_COMP5'}>,\n",
       "        <AxesSubplot:title={'center':'NU_NOTA_LC'}>],\n",
       "       [<AxesSubplot:title={'center':'NU_NOTA_MT'}>,\n",
       "        <AxesSubplot:title={'center':'NU_NOTA_REDACAO'}>,\n",
       "        <AxesSubplot:title={'center':'TP_DEPENDENCIA_ADM_ESC'}>,\n",
       "        <AxesSubplot:title={'center':'TP_ENSINO'}>],\n",
       "       [<AxesSubplot:title={'center':'TP_STATUS_REDACAO'}>,\n",
       "        <AxesSubplot:>, <AxesSubplot:>, <AxesSubplot:>]], dtype=object)"
      ]
     },
     "execution_count": 16,
     "metadata": {},
     "output_type": "execute_result"
    },
    {
     "data": {
      "image/png": "[encoded data removed]",
      "text/plain": [
       "<Figure size 1080x864 with 16 Axes>"
      ]
     },
     "metadata": {},
     "output_type": "display_data"
    }
   ],
   "source": [
    "figsize(15,12)\n",
    "\n",
    "# Visualizando a distribuição das features numéricas\n",
    "train.select_dtypes({'int','float'}).hist()"
   ]
  },
  {
   "cell_type": "code",
   "execution_count": 17,
   "metadata": {},
   "outputs": [
    {
     "data": {
      "text/plain": [
       "<AxesSubplot:>"
      ]
     },
     "execution_count": 17,
     "metadata": {},
     "output_type": "execute_result"
    },
    {
     "data": {
      "image/png": "[encoded data removed]",
      "text/plain": [
       "<Figure size 1080x864 with 2 Axes>"
      ]
     },
     "metadata": {},
     "output_type": "display_data"
    }
   ],
   "source": [
    "# Checando correlação entre as features numéricas\n",
    "\n",
    "sns.heatmap(data=train.select_dtypes({'int','float'}).corr(), annot=True)"
   ]
  },
  {
   "cell_type": "markdown",
   "metadata": {},
   "source": [
    "#### Verificaremos o desempenho do modelo utilizando as features já selecionadas sem excluir ou adicionar mais nenhuma."
   ]
  },
  {
   "cell_type": "markdown",
   "metadata": {},
   "source": [
    "### **Selecionando e separando as colunas por tipo**"
   ]
  },
  {
   "cell_type": "code",
   "execution_count": 18,
   "metadata": {},
   "outputs": [
    {
     "data": {
      "text/plain": [
       "Index(['SG_UF_RESIDENCIA', 'TP_SEXO', 'Q001', 'Q002', 'Q006', 'Q024', 'Q025',\n",
       "       'Q026', 'Q027', 'Q047'],\n",
       "      dtype='object')"
      ]
     },
     "execution_count": 18,
     "metadata": {},
     "output_type": "execute_result"
    }
   ],
   "source": [
    "cat_columns = train.select_dtypes('object').columns\n",
    "num_columns = train.select_dtypes({'int', 'float'}).columns\n",
    "cat_columns"
   ]
  },
  {
   "cell_type": "code",
   "execution_count": 19,
   "metadata": {},
   "outputs": [
    {
     "data": {
      "text/plain": [
       "Index(['TP_ENSINO', 'TP_DEPENDENCIA_ADM_ESC', 'NU_NOTA_CN', 'NU_NOTA_CH',\n",
       "       'NU_NOTA_LC', 'TP_STATUS_REDACAO', 'NU_NOTA_COMP1', 'NU_NOTA_COMP2',\n",
       "       'NU_NOTA_COMP3', 'NU_NOTA_COMP4', 'NU_NOTA_COMP5', 'NU_NOTA_REDACAO'],\n",
       "      dtype='object')"
      ]
     },
     "execution_count": 19,
     "metadata": {},
     "output_type": "execute_result"
    }
   ],
   "source": [
    "num_columns = num_columns.drop('NU_NOTA_MT')\n",
    "num_columns"
   ]
  },
  {
   "cell_type": "markdown",
   "metadata": {},
   "source": [
    "### **Criando uma instância de** `make_column_transformer`\n",
    "#### Para aplicar os preprocessadores em tipos distinstos de colunas (numeric, object)\n",
    "Nesse caso a instância de `make_column_transformer()` irá aplicar o `OneHotEncoder()` nas features categóricas e irá aplicar o `MinMaxScaler()` nas features numéricas."
   ]
  },
  {
   "cell_type": "code",
   "execution_count": 20,
   "metadata": {},
   "outputs": [],
   "source": [
    "column_trans = make_column_transformer((OneHotEncoder(), cat_columns),\n",
    "                                       (MinMaxScaler(), num_columns),\n",
    "                                        remainder='passthrough')"
   ]
  },
  {
   "cell_type": "markdown",
   "metadata": {},
   "source": [
    "#### Gerando um Pipeline com o `make_column_tranformer` e `LinearRegression()`"
   ]
  },
  {
   "cell_type": "code",
   "execution_count": 21,
   "metadata": {},
   "outputs": [],
   "source": [
    "lr_model = LinearRegression()\n",
    "lr_pipe = make_pipeline(column_trans, lr_model)"
   ]
  },
  {
   "cell_type": "markdown",
   "metadata": {},
   "source": [
    "#### Separando X_train, y_train"
   ]
  },
  {
   "cell_type": "code",
   "execution_count": 22,
   "metadata": {},
   "outputs": [],
   "source": [
    "X_train = train.drop(['NU_NOTA_MT'], axis=1)\n",
    "y_train = train['NU_NOTA_MT']\n",
    "X_test = test.copy()"
   ]
  },
  {
   "cell_type": "markdown",
   "metadata": {},
   "source": [
    "# ------ **TESTES** ------"
   ]
  },
  {
   "cell_type": "markdown",
   "metadata": {},
   "source": [
    "**Por se tratar de um problema de Regressão, iremos avaliar o `RMSE (Root Mean Squared Error / Raiz do Erro Quadrático Médio)`.**"
   ]
  },
  {
   "cell_type": "code",
   "execution_count": 23,
   "metadata": {},
   "outputs": [],
   "source": [
    "def rmse_score(pipeline, x, y):\n",
    "    return print(f'RMSE: {cross_val_score(pipeline, x, y, cv=10, scoring=\"neg_root_mean_squared_error\").mean().round(4)}')"
   ]
  },
  {
   "cell_type": "markdown",
   "metadata": {},
   "source": [
    "#### OneHotEncoder / MinMaxScaler / LinearRegression "
   ]
  },
  {
   "cell_type": "code",
   "execution_count": 24,
   "metadata": {},
   "outputs": [
    {
     "name": "stdout",
     "output_type": "stream",
     "text": [
      "RMSE: -66.7583\n"
     ]
    }
   ],
   "source": [
    "# Resultado\n",
    "rmse_score(lr_pipe, X_train, y_train)"
   ]
  },
  {
   "cell_type": "markdown",
   "metadata": {},
   "source": [
    "#### OneHotEncoder / MinMaxScaler / RandomForestRegressor"
   ]
  },
  {
   "cell_type": "code",
   "execution_count": 25,
   "metadata": {},
   "outputs": [],
   "source": [
    "rfr = RandomForestRegressor(n_jobs=-1)\n",
    "rfr_pipe = make_pipeline(column_trans, rfr)"
   ]
  },
  {
   "cell_type": "code",
   "execution_count": 26,
   "metadata": {},
   "outputs": [
    {
     "name": "stdout",
     "output_type": "stream",
     "text": [
      "RMSE: -63.0389\n"
     ]
    }
   ],
   "source": [
    "# Resultado\n",
    "rmse_score(rfr_pipe, X_train, y_train)"
   ]
  },
  {
   "cell_type": "markdown",
   "metadata": {},
   "source": [
    "#### OneHotEncoder / StandardScaler / RandomForestRegressor"
   ]
  },
  {
   "cell_type": "code",
   "execution_count": 27,
   "metadata": {},
   "outputs": [],
   "source": [
    "column_trans_std_scaler = make_column_transformer(\n",
    "                                                (OneHotEncoder(), cat_columns),\n",
    "                                                (StandardScaler(), num_columns),\n",
    "                                                 remainder=\"passthrough\"\n",
    "                                                 )\n",
    "\n",
    "rf_reg = RandomForestRegressor(n_jobs=-1)\n",
    "pipe_rf_reg = make_pipeline(column_trans_std_scaler, rf_reg)"
   ]
  },
  {
   "cell_type": "code",
   "execution_count": 28,
   "metadata": {},
   "outputs": [
    {
     "name": "stdout",
     "output_type": "stream",
     "text": [
      "RMSE: -63.2672\n"
     ]
    }
   ],
   "source": [
    "# Resultado\n",
    "rmse_score(pipe_rf_reg, X_train, y_train)"
   ]
  },
  {
   "cell_type": "markdown",
   "metadata": {},
   "source": [
    "#### OneHotEncoder / StandardScaler / LinearRegression"
   ]
  },
  {
   "cell_type": "code",
   "execution_count": 29,
   "metadata": {},
   "outputs": [],
   "source": [
    "lr_model = LinearRegression()\n",
    "lr_pipe = make_pipeline(column_trans_std_scaler, lr_model)"
   ]
  },
  {
   "cell_type": "code",
   "execution_count": 30,
   "metadata": {},
   "outputs": [
    {
     "name": "stdout",
     "output_type": "stream",
     "text": [
      "RMSE: -66.7527\n"
     ]
    }
   ],
   "source": [
    "# Resultado\n",
    "rmse_score(lr_pipe, X_train, y_train)"
   ]
  },
  {
   "cell_type": "markdown",
   "metadata": {},
   "source": [
    "#### A melhor combinação que mostrou o menor `RMSE`:\n",
    "##### **OneHotEncoder / StandardScaler / RandomForestRegressor**"
   ]
  },
  {
   "cell_type": "markdown",
   "metadata": {},
   "source": [
    "## Testes exaustivos usando o `GridSearchCV()`\n",
    "\n",
    "Usaremos o GridSearchCV para procurar os melhores parâmetros para otimizar o algoritmo `RandomForestRegressor()`<br>\n",
    "Treinaremos dois modelos utilizando o `StandardScaler()` e `MinMaxScaler()` devido a pouca diferença no `score` de `RMSE`."
   ]
  },
  {
   "cell_type": "markdown",
   "metadata": {},
   "source": [
    "#### **`StandardScaler()`**"
   ]
  },
  {
   "cell_type": "code",
   "execution_count": 31,
   "metadata": {},
   "outputs": [],
   "source": [
    "# Instanciando um novo make_column_transformer\n",
    "\n",
    "column_transform_std = make_column_transformer((OneHotEncoder(), cat_columns),\n",
    "                                       (StandardScaler(), num_columns),\n",
    "                                        remainder='passthrough')\n",
    "\n",
    "# Instanciando um novo RandomForestRegressor\n",
    "rfr = RandomForestRegressor()\n",
    "\n",
    "# Instanciando um Pipeline com o OneHotEncoder / StandardScaler / RandomForestRegressor\n",
    "rfr_pipeline_std = Pipeline(steps=[('column_transform_std', column_transform_std),\n",
    "                               ('rfr', rfr)\n",
    "                               ]\n",
    "                       )"
   ]
  },
  {
   "cell_type": "code",
   "execution_count": 32,
   "metadata": {},
   "outputs": [],
   "source": [
    "# Gerando listas com possíveis valores para os parâmetros de rfr()\n",
    "val_estimator = [100, 150, 200, 250]\n",
    "val_criterion = [\"mse\"]\n",
    "val_max_features = [\"auto\", \"log2\"]\n",
    "\n",
    "# Criando um dict para passar aos parametros do RandomForest dentro do GridSearchCV\n",
    "grid_params = dict(\n",
    "        rfr__n_estimators=val_estimator,\n",
    "        rfr__criterion=val_criterion,\n",
    "        rfr__max_features=val_max_features)\n",
    "\n",
    "# Instânciando o GridSearchCV\n",
    "grid_std = GridSearchCV(rfr_pipeline_std, grid_params, cv=10, n_jobs=-1)"
   ]
  },
  {
   "cell_type": "code",
   "execution_count": 33,
   "metadata": {},
   "outputs": [
    {
     "data": {
      "text/plain": [
       "GridSearchCV(cv=10,\n",
       "             estimator=Pipeline(steps=[('column_transform_std',\n",
       "                                        ColumnTransformer(remainder='passthrough',\n",
       "                                                          transformers=[('onehotencoder',\n",
       "                                                                         OneHotEncoder(),\n",
       "                                                                         Index(['SG_UF_RESIDENCIA', 'TP_SEXO', 'Q001', 'Q002', 'Q006', 'Q024', 'Q025',\n",
       "       'Q026', 'Q027', 'Q047'],\n",
       "      dtype='object')),\n",
       "                                                                        ('standardscaler',\n",
       "                                                                         StandardScaler(),\n",
       "                                                                         Index(['TP_ENSINO', 'TP_DEPENDENCIA_ADM_ESC', 'NU_NOTA_CN', 'NU_NOTA_CH',\n",
       "       'NU_NOTA_LC', 'TP_STATUS_REDACAO', 'NU_NOTA_COMP1', 'NU_NOTA_COMP2',\n",
       "       'NU_NOTA_COMP3', 'NU_NOTA_COMP4', 'NU_NOTA_COMP5', 'NU_NOTA_REDACAO'],\n",
       "      dtype='object'))])),\n",
       "                                       ('rfr', RandomForestRegressor())]),\n",
       "             n_jobs=-1,\n",
       "             param_grid={'rfr__criterion': ['mse'],\n",
       "                         'rfr__max_features': ['auto', 'log2'],\n",
       "                         'rfr__n_estimators': [100, 150, 200, 250]})"
      ]
     },
     "execution_count": 33,
     "metadata": {},
     "output_type": "execute_result"
    }
   ],
   "source": [
    "# Treinando o modelo (Obs.: Esta etapa pode demorar bastante)\n",
    "grid_std.fit(X_train, y_train)"
   ]
  },
  {
   "cell_type": "code",
   "execution_count": 34,
   "metadata": {},
   "outputs": [
    {
     "data": {
      "text/html": [
       "<div>\n",
       "<style scoped>\n",
       "    .dataframe tbody tr th:only-of-type {\n",
       "        vertical-align: middle;\n",
       "    }\n",
       "\n",
       "    .dataframe tbody tr th {\n",
       "        vertical-align: top;\n",
       "    }\n",
       "\n",
       "    .dataframe thead th {\n",
       "        text-align: right;\n",
       "    }\n",
       "</style>\n",
       "<table border=\"1\" class=\"dataframe\">\n",
       "  <thead>\n",
       "    <tr style=\"text-align: right;\">\n",
       "      <th></th>\n",
       "      <th>mean_fit_time</th>\n",
       "      <th>std_fit_time</th>\n",
       "      <th>mean_score_time</th>\n",
       "      <th>std_score_time</th>\n",
       "      <th>param_rfr__criterion</th>\n",
       "      <th>param_rfr__max_features</th>\n",
       "      <th>param_rfr__n_estimators</th>\n",
       "      <th>params</th>\n",
       "      <th>split0_test_score</th>\n",
       "      <th>split1_test_score</th>\n",
       "      <th>...</th>\n",
       "      <th>split3_test_score</th>\n",
       "      <th>split4_test_score</th>\n",
       "      <th>split5_test_score</th>\n",
       "      <th>split6_test_score</th>\n",
       "      <th>split7_test_score</th>\n",
       "      <th>split8_test_score</th>\n",
       "      <th>split9_test_score</th>\n",
       "      <th>mean_test_score</th>\n",
       "      <th>std_test_score</th>\n",
       "      <th>rank_test_score</th>\n",
       "    </tr>\n",
       "  </thead>\n",
       "  <tbody>\n",
       "    <tr>\n",
       "      <th>0</th>\n",
       "      <td>18.234936</td>\n",
       "      <td>0.929222</td>\n",
       "      <td>0.054357</td>\n",
       "      <td>0.010809</td>\n",
       "      <td>mse</td>\n",
       "      <td>auto</td>\n",
       "      <td>100</td>\n",
       "      <td>{'rfr__criterion': 'mse', 'rfr__max_features':...</td>\n",
       "      <td>0.926496</td>\n",
       "      <td>0.927836</td>\n",
       "      <td>...</td>\n",
       "      <td>0.928379</td>\n",
       "      <td>0.917547</td>\n",
       "      <td>0.920463</td>\n",
       "      <td>0.929830</td>\n",
       "      <td>0.927886</td>\n",
       "      <td>0.919907</td>\n",
       "      <td>0.920915</td>\n",
       "      <td>0.923736</td>\n",
       "      <td>0.004514</td>\n",
       "      <td>4</td>\n",
       "    </tr>\n",
       "    <tr>\n",
       "      <th>1</th>\n",
       "      <td>26.202702</td>\n",
       "      <td>1.138161</td>\n",
       "      <td>0.074741</td>\n",
       "      <td>0.007366</td>\n",
       "      <td>mse</td>\n",
       "      <td>auto</td>\n",
       "      <td>150</td>\n",
       "      <td>{'rfr__criterion': 'mse', 'rfr__max_features':...</td>\n",
       "      <td>0.926555</td>\n",
       "      <td>0.927701</td>\n",
       "      <td>...</td>\n",
       "      <td>0.928829</td>\n",
       "      <td>0.917117</td>\n",
       "      <td>0.920199</td>\n",
       "      <td>0.930114</td>\n",
       "      <td>0.928293</td>\n",
       "      <td>0.921241</td>\n",
       "      <td>0.920956</td>\n",
       "      <td>0.924065</td>\n",
       "      <td>0.004438</td>\n",
       "      <td>3</td>\n",
       "    </tr>\n",
       "    <tr>\n",
       "      <th>2</th>\n",
       "      <td>36.069736</td>\n",
       "      <td>0.259789</td>\n",
       "      <td>0.100636</td>\n",
       "      <td>0.004207</td>\n",
       "      <td>mse</td>\n",
       "      <td>auto</td>\n",
       "      <td>200</td>\n",
       "      <td>{'rfr__criterion': 'mse', 'rfr__max_features':...</td>\n",
       "      <td>0.926568</td>\n",
       "      <td>0.928058</td>\n",
       "      <td>...</td>\n",
       "      <td>0.928997</td>\n",
       "      <td>0.918042</td>\n",
       "      <td>0.920715</td>\n",
       "      <td>0.931134</td>\n",
       "      <td>0.928562</td>\n",
       "      <td>0.920938</td>\n",
       "      <td>0.920968</td>\n",
       "      <td>0.924331</td>\n",
       "      <td>0.004532</td>\n",
       "      <td>1</td>\n",
       "    </tr>\n",
       "    <tr>\n",
       "      <th>3</th>\n",
       "      <td>45.897623</td>\n",
       "      <td>0.400799</td>\n",
       "      <td>0.127016</td>\n",
       "      <td>0.011272</td>\n",
       "      <td>mse</td>\n",
       "      <td>auto</td>\n",
       "      <td>250</td>\n",
       "      <td>{'rfr__criterion': 'mse', 'rfr__max_features':...</td>\n",
       "      <td>0.927128</td>\n",
       "      <td>0.928379</td>\n",
       "      <td>...</td>\n",
       "      <td>0.928826</td>\n",
       "      <td>0.917821</td>\n",
       "      <td>0.919548</td>\n",
       "      <td>0.930546</td>\n",
       "      <td>0.928120</td>\n",
       "      <td>0.920561</td>\n",
       "      <td>0.920614</td>\n",
       "      <td>0.924131</td>\n",
       "      <td>0.004595</td>\n",
       "      <td>2</td>\n",
       "    </tr>\n",
       "    <tr>\n",
       "      <th>4</th>\n",
       "      <td>2.050107</td>\n",
       "      <td>0.028063</td>\n",
       "      <td>0.060592</td>\n",
       "      <td>0.003583</td>\n",
       "      <td>mse</td>\n",
       "      <td>log2</td>\n",
       "      <td>100</td>\n",
       "      <td>{'rfr__criterion': 'mse', 'rfr__max_features':...</td>\n",
       "      <td>0.918609</td>\n",
       "      <td>0.926150</td>\n",
       "      <td>...</td>\n",
       "      <td>0.924184</td>\n",
       "      <td>0.915563</td>\n",
       "      <td>0.912962</td>\n",
       "      <td>0.927121</td>\n",
       "      <td>0.924289</td>\n",
       "      <td>0.918108</td>\n",
       "      <td>0.919457</td>\n",
       "      <td>0.919692</td>\n",
       "      <td>0.005377</td>\n",
       "      <td>8</td>\n",
       "    </tr>\n",
       "    <tr>\n",
       "      <th>5</th>\n",
       "      <td>3.158101</td>\n",
       "      <td>0.029601</td>\n",
       "      <td>0.083433</td>\n",
       "      <td>0.007581</td>\n",
       "      <td>mse</td>\n",
       "      <td>log2</td>\n",
       "      <td>150</td>\n",
       "      <td>{'rfr__criterion': 'mse', 'rfr__max_features':...</td>\n",
       "      <td>0.920252</td>\n",
       "      <td>0.927020</td>\n",
       "      <td>...</td>\n",
       "      <td>0.924092</td>\n",
       "      <td>0.915772</td>\n",
       "      <td>0.912597</td>\n",
       "      <td>0.927093</td>\n",
       "      <td>0.924400</td>\n",
       "      <td>0.917757</td>\n",
       "      <td>0.918474</td>\n",
       "      <td>0.919706</td>\n",
       "      <td>0.005684</td>\n",
       "      <td>7</td>\n",
       "    </tr>\n",
       "    <tr>\n",
       "      <th>6</th>\n",
       "      <td>4.172988</td>\n",
       "      <td>0.122193</td>\n",
       "      <td>0.104376</td>\n",
       "      <td>0.005075</td>\n",
       "      <td>mse</td>\n",
       "      <td>log2</td>\n",
       "      <td>200</td>\n",
       "      <td>{'rfr__criterion': 'mse', 'rfr__max_features':...</td>\n",
       "      <td>0.920484</td>\n",
       "      <td>0.927659</td>\n",
       "      <td>...</td>\n",
       "      <td>0.925018</td>\n",
       "      <td>0.915263</td>\n",
       "      <td>0.912031</td>\n",
       "      <td>0.926956</td>\n",
       "      <td>0.924763</td>\n",
       "      <td>0.917495</td>\n",
       "      <td>0.920048</td>\n",
       "      <td>0.920094</td>\n",
       "      <td>0.005696</td>\n",
       "      <td>5</td>\n",
       "    </tr>\n",
       "    <tr>\n",
       "      <th>7</th>\n",
       "      <td>5.165771</td>\n",
       "      <td>0.090944</td>\n",
       "      <td>0.133103</td>\n",
       "      <td>0.013248</td>\n",
       "      <td>mse</td>\n",
       "      <td>log2</td>\n",
       "      <td>250</td>\n",
       "      <td>{'rfr__criterion': 'mse', 'rfr__max_features':...</td>\n",
       "      <td>0.919780</td>\n",
       "      <td>0.927182</td>\n",
       "      <td>...</td>\n",
       "      <td>0.924763</td>\n",
       "      <td>0.914770</td>\n",
       "      <td>0.911397</td>\n",
       "      <td>0.927097</td>\n",
       "      <td>0.924789</td>\n",
       "      <td>0.918815</td>\n",
       "      <td>0.919571</td>\n",
       "      <td>0.919939</td>\n",
       "      <td>0.005723</td>\n",
       "      <td>6</td>\n",
       "    </tr>\n",
       "  </tbody>\n",
       "</table>\n",
       "<p>8 rows × 21 columns</p>\n",
       "</div>"
      ],
      "text/plain": [
       "   mean_fit_time  std_fit_time  mean_score_time  std_score_time  \\\n",
       "0      18.234936      0.929222         0.054357        0.010809   \n",
       "1      26.202702      1.138161         0.074741        0.007366   \n",
       "2      36.069736      0.259789         0.100636        0.004207   \n",
       "3      45.897623      0.400799         0.127016        0.011272   \n",
       "4       2.050107      0.028063         0.060592        0.003583   \n",
       "5       3.158101      0.029601         0.083433        0.007581   \n",
       "6       4.172988      0.122193         0.104376        0.005075   \n",
       "7       5.165771      0.090944         0.133103        0.013248   \n",
       "\n",
       "  param_rfr__criterion param_rfr__max_features param_rfr__n_estimators  \\\n",
       "0                  mse                    auto                     100   \n",
       "1                  mse                    auto                     150   \n",
       "2                  mse                    auto                     200   \n",
       "3                  mse                    auto                     250   \n",
       "4                  mse                    log2                     100   \n",
       "5                  mse                    log2                     150   \n",
       "6                  mse                    log2                     200   \n",
       "7                  mse                    log2                     250   \n",
       "\n",
       "                                              params  split0_test_score  \\\n",
       "0  {'rfr__criterion': 'mse', 'rfr__max_features':...           0.926496   \n",
       "1  {'rfr__criterion': 'mse', 'rfr__max_features':...           0.926555   \n",
       "2  {'rfr__criterion': 'mse', 'rfr__max_features':...           0.926568   \n",
       "3  {'rfr__criterion': 'mse', 'rfr__max_features':...           0.927128   \n",
       "4  {'rfr__criterion': 'mse', 'rfr__max_features':...           0.918609   \n",
       "5  {'rfr__criterion': 'mse', 'rfr__max_features':...           0.920252   \n",
       "6  {'rfr__criterion': 'mse', 'rfr__max_features':...           0.920484   \n",
       "7  {'rfr__criterion': 'mse', 'rfr__max_features':...           0.919780   \n",
       "\n",
       "   split1_test_score  ...  split3_test_score  split4_test_score  \\\n",
       "0           0.927836  ...           0.928379           0.917547   \n",
       "1           0.927701  ...           0.928829           0.917117   \n",
       "2           0.928058  ...           0.928997           0.918042   \n",
       "3           0.928379  ...           0.928826           0.917821   \n",
       "4           0.926150  ...           0.924184           0.915563   \n",
       "5           0.927020  ...           0.924092           0.915772   \n",
       "6           0.927659  ...           0.925018           0.915263   \n",
       "7           0.927182  ...           0.924763           0.914770   \n",
       "\n",
       "   split5_test_score  split6_test_score  split7_test_score  split8_test_score  \\\n",
       "0           0.920463           0.929830           0.927886           0.919907   \n",
       "1           0.920199           0.930114           0.928293           0.921241   \n",
       "2           0.920715           0.931134           0.928562           0.920938   \n",
       "3           0.919548           0.930546           0.928120           0.920561   \n",
       "4           0.912962           0.927121           0.924289           0.918108   \n",
       "5           0.912597           0.927093           0.924400           0.917757   \n",
       "6           0.912031           0.926956           0.924763           0.917495   \n",
       "7           0.911397           0.927097           0.924789           0.918815   \n",
       "\n",
       "   split9_test_score  mean_test_score  std_test_score  rank_test_score  \n",
       "0           0.920915         0.923736        0.004514                4  \n",
       "1           0.920956         0.924065        0.004438                3  \n",
       "2           0.920968         0.924331        0.004532                1  \n",
       "3           0.920614         0.924131        0.004595                2  \n",
       "4           0.919457         0.919692        0.005377                8  \n",
       "5           0.918474         0.919706        0.005684                7  \n",
       "6           0.920048         0.920094        0.005696                5  \n",
       "7           0.919571         0.919939        0.005723                6  \n",
       "\n",
       "[8 rows x 21 columns]"
      ]
     },
     "execution_count": 34,
     "metadata": {},
     "output_type": "execute_result"
    }
   ],
   "source": [
    "# Gerando um DataFrame com os resultados do GridSearchCV\n",
    "standard_scaler_results = pd.DataFrame(grid_std.cv_results_)\n",
    "standard_scaler_results"
   ]
  },
  {
   "cell_type": "code",
   "execution_count": 35,
   "metadata": {},
   "outputs": [
    {
     "data": {
      "text/plain": [
       "0.924330571025511"
      ]
     },
     "execution_count": 35,
     "metadata": {},
     "output_type": "execute_result"
    }
   ],
   "source": [
    "standard_scaler_score = grid_std.best_score_\n",
    "standard_scaler_score"
   ]
  },
  {
   "cell_type": "code",
   "execution_count": 36,
   "metadata": {},
   "outputs": [
    {
     "data": {
      "text/plain": [
       "0.9243"
      ]
     },
     "execution_count": 36,
     "metadata": {},
     "output_type": "execute_result"
    }
   ],
   "source": [
    "standard_scaler_score.round(4)"
   ]
  },
  {
   "cell_type": "markdown",
   "metadata": {},
   "source": [
    "#### **`MinMaxScaler()`**"
   ]
  },
  {
   "cell_type": "code",
   "execution_count": 37,
   "metadata": {},
   "outputs": [],
   "source": [
    "# Instanciando um novo make_column_transformer\n",
    "\n",
    "column_transform_min_max = make_column_transformer((OneHotEncoder(), cat_columns),\n",
    "                                       (MinMaxScaler(), num_columns),\n",
    "                                        remainder='passthrough')\n",
    "\n",
    "# Instanciando um novo RandomForestRegressor\n",
    "rfr = RandomForestRegressor()\n",
    "\n",
    "# Instanciando um Pipeline com o OneHotEncoder / StandardScaler / RandomForestRegressor\n",
    "rfr_pipeline = Pipeline(steps=[('column_transform_min_max', column_transform_min_max),\n",
    "                               ('rfr', rfr)\n",
    "                               ]\n",
    "                       )"
   ]
  },
  {
   "cell_type": "code",
   "execution_count": 38,
   "metadata": {},
   "outputs": [],
   "source": [
    "# Gerando listas com possíveis valores para os parâmetros de rfr()\n",
    "val_estimator = [100, 150, 200, 250]\n",
    "val_criterion = [\"mse\"]\n",
    "val_max_features = [\"auto\", \"log2\"]\n",
    "\n",
    "# Criando um dict para passar aos parametros do RandomForest dentro do GridSearchCV\n",
    "grid_params = dict(\n",
    "        rfr__n_estimators=val_estimator,\n",
    "        rfr__criterion=val_criterion,\n",
    "        rfr__max_features=val_max_features)\n",
    "\n",
    "# Instânciando o GridSearchCV\n",
    "grid_min_max = GridSearchCV(rfr_pipeline, grid_params, cv=10, n_jobs=-1)"
   ]
  },
  {
   "cell_type": "code",
   "execution_count": 39,
   "metadata": {},
   "outputs": [
    {
     "data": {
      "text/plain": [
       "GridSearchCV(cv=10,\n",
       "             estimator=Pipeline(steps=[('column_transform_min_max',\n",
       "                                        ColumnTransformer(remainder='passthrough',\n",
       "                                                          transformers=[('onehotencoder',\n",
       "                                                                         OneHotEncoder(),\n",
       "                                                                         Index(['SG_UF_RESIDENCIA', 'TP_SEXO', 'Q001', 'Q002', 'Q006', 'Q024', 'Q025',\n",
       "       'Q026', 'Q027', 'Q047'],\n",
       "      dtype='object')),\n",
       "                                                                        ('minmaxscaler',\n",
       "                                                                         MinMaxScaler(),\n",
       "                                                                         Index(['TP_ENSINO', 'TP_DEPENDENCIA_ADM_ESC', 'NU_NOTA_CN', 'NU_NOTA_CH',\n",
       "       'NU_NOTA_LC', 'TP_STATUS_REDACAO', 'NU_NOTA_COMP1', 'NU_NOTA_COMP2',\n",
       "       'NU_NOTA_COMP3', 'NU_NOTA_COMP4', 'NU_NOTA_COMP5', 'NU_NOTA_REDACAO'],\n",
       "      dtype='object'))])),\n",
       "                                       ('rfr', RandomForestRegressor())]),\n",
       "             n_jobs=-1,\n",
       "             param_grid={'rfr__criterion': ['mse'],\n",
       "                         'rfr__max_features': ['auto', 'log2'],\n",
       "                         'rfr__n_estimators': [100, 150, 200, 250]})"
      ]
     },
     "execution_count": 39,
     "metadata": {},
     "output_type": "execute_result"
    }
   ],
   "source": [
    "grid_min_max.fit(X_train, y_train)"
   ]
  },
  {
   "cell_type": "code",
   "execution_count": 40,
   "metadata": {},
   "outputs": [
    {
     "data": {
      "text/plain": [
       "0.9243912202988132"
      ]
     },
     "execution_count": 40,
     "metadata": {},
     "output_type": "execute_result"
    }
   ],
   "source": [
    "min_max_score = grid_min_max.best_score_\n",
    "min_max_score"
   ]
  },
  {
   "cell_type": "code",
   "execution_count": 41,
   "metadata": {},
   "outputs": [
    {
     "data": {
      "text/plain": [
       "0.9244"
      ]
     },
     "execution_count": 41,
     "metadata": {},
     "output_type": "execute_result"
    }
   ],
   "source": [
    "min_max_score.round(4)"
   ]
  },
  {
   "cell_type": "markdown",
   "metadata": {},
   "source": [
    "A diferença ainda é mínima mesmo trocando os preprocessadores de dados, usaremos o modelo treinado com o `MinMaxScaler()` para prever as notas de `\"NU_NOTA_MT\"`"
   ]
  },
  {
   "cell_type": "code",
   "execution_count": 42,
   "metadata": {},
   "outputs": [],
   "source": [
    "pred = pd.Series(grid_min_max.predict(X_test))"
   ]
  },
  {
   "cell_type": "code",
   "execution_count": 43,
   "metadata": {},
   "outputs": [
    {
     "data": {
      "text/plain": [
       "<AxesSubplot:>"
      ]
     },
     "execution_count": 43,
     "metadata": {},
     "output_type": "execute_result"
    },
    {
     "data": {
      "image/png": "[encoded data removed]",
      "text/plain": [
       "<Figure size 720x576 with 1 Axes>"
      ]
     },
     "metadata": {},
     "output_type": "display_data"
    }
   ],
   "source": [
    "figsize(10,8)\n",
    "sns.distplot(pred)"
   ]
  },
  {
   "cell_type": "code",
   "execution_count": 44,
   "metadata": {},
   "outputs": [
    {
     "data": {
      "text/plain": [
       "(0.0, 854.2908000000012)"
      ]
     },
     "execution_count": 44,
     "metadata": {},
     "output_type": "execute_result"
    }
   ],
   "source": [
    "# Checando se há valores a baixo de 0 ou acima de 1000.0\n",
    "# Se houverem valores abaixo de 0, deve ser feito uma correção de arredondamento desses valores pra 0.\n",
    "\n",
    "pred.min(), pred.max()"
   ]
  },
  {
   "cell_type": "code",
   "execution_count": 45,
   "metadata": {},
   "outputs": [],
   "source": [
    "answer['NU_NOTA_MT'] = pred.round(2)"
   ]
  },
  {
   "cell_type": "code",
   "execution_count": 46,
   "metadata": {},
   "outputs": [
    {
     "data": {
      "text/html": [
       "<div>\n",
       "<style scoped>\n",
       "    .dataframe tbody tr th:only-of-type {\n",
       "        vertical-align: middle;\n",
       "    }\n",
       "\n",
       "    .dataframe tbody tr th {\n",
       "        vertical-align: top;\n",
       "    }\n",
       "\n",
       "    .dataframe thead th {\n",
       "        text-align: right;\n",
       "    }\n",
       "</style>\n",
       "<table border=\"1\" class=\"dataframe\">\n",
       "  <thead>\n",
       "    <tr style=\"text-align: right;\">\n",
       "      <th></th>\n",
       "      <th>NU_INSCRICAO</th>\n",
       "      <th>NU_NOTA_MT</th>\n",
       "    </tr>\n",
       "  </thead>\n",
       "  <tbody>\n",
       "    <tr>\n",
       "      <th>0</th>\n",
       "      <td>73ff9fcc02f0a99919906c942c2e1a1042cdcf98</td>\n",
       "      <td>427.78</td>\n",
       "    </tr>\n",
       "    <tr>\n",
       "      <th>1</th>\n",
       "      <td>71a95f9f1b91a82c65ad94abbdf9f54e6066f968</td>\n",
       "      <td>440.38</td>\n",
       "    </tr>\n",
       "    <tr>\n",
       "      <th>2</th>\n",
       "      <td>b38a03232f43b11c9d0788abaf060f7366053b6d</td>\n",
       "      <td>584.65</td>\n",
       "    </tr>\n",
       "    <tr>\n",
       "      <th>3</th>\n",
       "      <td>70b682d9a3636be23f6120fa9d6b164eb3c6002d</td>\n",
       "      <td>0.00</td>\n",
       "    </tr>\n",
       "    <tr>\n",
       "      <th>4</th>\n",
       "      <td>715494628a50142ce8cb17191cfe6d0f3cae0934</td>\n",
       "      <td>539.87</td>\n",
       "    </tr>\n",
       "    <tr>\n",
       "      <th>...</th>\n",
       "      <td>...</td>\n",
       "      <td>...</td>\n",
       "    </tr>\n",
       "    <tr>\n",
       "      <th>4571</th>\n",
       "      <td>dac0f22429c7f8e3931d0abaf5dfc8e5c772a48b</td>\n",
       "      <td>452.96</td>\n",
       "    </tr>\n",
       "    <tr>\n",
       "      <th>4572</th>\n",
       "      <td>a75fa8770257e7c9368d059fe53d9ef431f4bdef</td>\n",
       "      <td>478.07</td>\n",
       "    </tr>\n",
       "    <tr>\n",
       "      <th>4573</th>\n",
       "      <td>655fa6306720ff16e825903b5422a46608a77545</td>\n",
       "      <td>682.83</td>\n",
       "    </tr>\n",
       "    <tr>\n",
       "      <th>4574</th>\n",
       "      <td>1f4bc3e3d56212d500625bfe8ac78ccff4362293</td>\n",
       "      <td>459.83</td>\n",
       "    </tr>\n",
       "    <tr>\n",
       "      <th>4575</th>\n",
       "      <td>adf0d15b54317b6564ef56dad2b775bbb0ef50cc</td>\n",
       "      <td>0.00</td>\n",
       "    </tr>\n",
       "  </tbody>\n",
       "</table>\n",
       "<p>4576 rows × 2 columns</p>\n",
       "</div>"
      ],
      "text/plain": [
       "                                  NU_INSCRICAO  NU_NOTA_MT\n",
       "0     73ff9fcc02f0a99919906c942c2e1a1042cdcf98      427.78\n",
       "1     71a95f9f1b91a82c65ad94abbdf9f54e6066f968      440.38\n",
       "2     b38a03232f43b11c9d0788abaf060f7366053b6d      584.65\n",
       "3     70b682d9a3636be23f6120fa9d6b164eb3c6002d        0.00\n",
       "4     715494628a50142ce8cb17191cfe6d0f3cae0934      539.87\n",
       "...                                        ...         ...\n",
       "4571  dac0f22429c7f8e3931d0abaf5dfc8e5c772a48b      452.96\n",
       "4572  a75fa8770257e7c9368d059fe53d9ef431f4bdef      478.07\n",
       "4573  655fa6306720ff16e825903b5422a46608a77545      682.83\n",
       "4574  1f4bc3e3d56212d500625bfe8ac78ccff4362293      459.83\n",
       "4575  adf0d15b54317b6564ef56dad2b775bbb0ef50cc        0.00\n",
       "\n",
       "[4576 rows x 2 columns]"
      ]
     },
     "execution_count": 46,
     "metadata": {},
     "output_type": "execute_result"
    }
   ],
   "source": [
    "answer"
   ]
  },
  {
   "cell_type": "code",
   "execution_count": 47,
   "metadata": {},
   "outputs": [],
   "source": [
    "answer.to_csv('answer.csv', index=False, header=True)"
   ]
  },
  {
   "cell_type": "markdown",
   "metadata": {},
   "source": [
    "`Resultado do submit do desafio:`"
   ]
  },
  {
   "cell_type": "markdown",
   "metadata": {},
   "source": [
    "![title](result_score.png)"
   ]
  }
 ],
 "metadata": {
  "kernelspec": {
   "display_name": "Python 3",
   "language": "python",
   "name": "python3"
  },
  "language_info": {
   "codemirror_mode": {
    "name": "ipython",
    "version": 3
   },
   "file_extension": ".py",
   "mimetype": "text/x-python",
   "name": "python",
   "nbconvert_exporter": "python",
   "pygments_lexer": "ipython3",
   "version": "3.8.3"
  }
 },
 "nbformat": 4,
 "nbformat_minor": 4
}
